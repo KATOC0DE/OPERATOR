{
 "cells": [
  {
   "cell_type": "markdown",
   "id": "354fc9aa",
   "metadata": {},
   "source": [
    "# OPERATORS"
   ]
  },
  {
   "cell_type": "code",
   "execution_count": 1,
   "id": "7c3ff0b1",
   "metadata": {},
   "outputs": [],
   "source": [
    "op1 = 100\n",
    "op2 = 50"
   ]
  },
  {
   "cell_type": "code",
   "execution_count": 2,
   "id": "8b5e192d",
   "metadata": {},
   "outputs": [
    {
     "data": {
      "text/plain": [
       "10000"
      ]
     },
     "execution_count": 2,
     "metadata": {},
     "output_type": "execute_result"
    }
   ],
   "source": [
    "op1**2"
   ]
  },
  {
   "cell_type": "code",
   "execution_count": 3,
   "id": "69a5f66d",
   "metadata": {},
   "outputs": [
    {
     "data": {
      "text/plain": [
       "2.0"
      ]
     },
     "execution_count": 3,
     "metadata": {},
     "output_type": "execute_result"
    }
   ],
   "source": [
    "op1/op2"
   ]
  },
  {
   "cell_type": "code",
   "execution_count": 4,
   "id": "81882bbd",
   "metadata": {},
   "outputs": [
    {
     "data": {
      "text/plain": [
       "2595.0"
      ]
     },
     "execution_count": 4,
     "metadata": {},
     "output_type": "execute_result"
    }
   ],
   "source": [
    "op1*op2/2+100-5"
   ]
  },
  {
   "cell_type": "code",
   "execution_count": 5,
   "id": "5920bfc6",
   "metadata": {},
   "outputs": [
    {
     "data": {
      "text/plain": [
       "51.54639175257732"
      ]
     },
     "execution_count": 5,
     "metadata": {},
     "output_type": "execute_result"
    }
   ],
   "source": [
    "op1*op2/(2+100-5)"
   ]
  },
  {
   "cell_type": "markdown",
   "id": "17766790",
   "metadata": {},
   "source": [
    "# COMPARISON"
   ]
  },
  {
   "cell_type": "markdown",
   "id": "d00a02bb",
   "metadata": {},
   "source": [
    "\n",
    "| Operator | Operation | Expression |\n",
    "|:-:|-:|-:|\n",
    "| ==|Equal to                 |a == b |\n",
    "| !=|Not equal to             |a != b |\n",
    "| < |Less than                |a < b  |\n",
    "| <=|Less than or equal to\t  |a <= b |\n",
    "| > |Greater than             |a > b  |\n",
    "| >=|Greater than or equal to |a >= b |"
   ]
  },
  {
   "cell_type": "code",
   "execution_count": 6,
   "id": "b8546683",
   "metadata": {},
   "outputs": [],
   "source": [
    "op1 = 100\n",
    "op2 = 50"
   ]
  },
  {
   "cell_type": "code",
   "execution_count": 9,
   "id": "fc6c6984",
   "metadata": {},
   "outputs": [
    {
     "data": {
      "text/plain": [
       "False"
      ]
     },
     "execution_count": 9,
     "metadata": {},
     "output_type": "execute_result"
    }
   ],
   "source": [
    "op1 == op2"
   ]
  },
  {
   "cell_type": "code",
   "execution_count": 10,
   "id": "fe580c8f",
   "metadata": {},
   "outputs": [
    {
     "data": {
      "text/plain": [
       "True"
      ]
     },
     "execution_count": 10,
     "metadata": {},
     "output_type": "execute_result"
    }
   ],
   "source": [
    "op1 != op2"
   ]
  },
  {
   "cell_type": "code",
   "execution_count": 8,
   "id": "76f387d6",
   "metadata": {},
   "outputs": [
    {
     "data": {
      "text/plain": [
       "False"
      ]
     },
     "execution_count": 8,
     "metadata": {},
     "output_type": "execute_result"
    }
   ],
   "source": [
    "op1 < op2"
   ]
  },
  {
   "cell_type": "code",
   "execution_count": 11,
   "id": "d1511317",
   "metadata": {},
   "outputs": [
    {
     "data": {
      "text/plain": [
       "False"
      ]
     },
     "execution_count": 11,
     "metadata": {},
     "output_type": "execute_result"
    }
   ],
   "source": [
    "op1 <= op2"
   ]
  },
  {
   "cell_type": "code",
   "execution_count": 7,
   "id": "20ddea87",
   "metadata": {},
   "outputs": [
    {
     "data": {
      "text/plain": [
       "True"
      ]
     },
     "execution_count": 7,
     "metadata": {},
     "output_type": "execute_result"
    }
   ],
   "source": [
    "op1 > op2"
   ]
  },
  {
   "cell_type": "code",
   "execution_count": 12,
   "id": "dea41208",
   "metadata": {},
   "outputs": [
    {
     "data": {
      "text/plain": [
       "True"
      ]
     },
     "execution_count": 12,
     "metadata": {},
     "output_type": "execute_result"
    }
   ],
   "source": [
    "op1 >= op2"
   ]
  },
  {
   "cell_type": "markdown",
   "id": "89a8ea4c",
   "metadata": {},
   "source": [
    "# LOGICAL OPERATORS"
   ]
  },
  {
   "cell_type": "markdown",
   "id": "9049dcfb",
   "metadata": {},
   "source": [
    "|Operator|Expression|Result|\n",
    "|:-:|:-|-:|\n",
    "|and\t|x and y\t| True if both x and y are True|\n",
    "|or \t|x or y     |True if either x or y is True|\n",
    "|not\t|not x\t    |True if x is False|"
   ]
  },
  {
   "cell_type": "code",
   "execution_count": 13,
   "id": "e9f87541",
   "metadata": {},
   "outputs": [],
   "source": [
    "op1 = 100\n",
    "op2 = 50"
   ]
  },
  {
   "cell_type": "code",
   "execution_count": 14,
   "id": "7bf9b816",
   "metadata": {},
   "outputs": [
    {
     "data": {
      "text/plain": [
       "True"
      ]
     },
     "execution_count": 14,
     "metadata": {},
     "output_type": "execute_result"
    }
   ],
   "source": [
    "op1 == op2*2 and op1*2 == op2*4"
   ]
  },
  {
   "cell_type": "code",
   "execution_count": 15,
   "id": "b199a1f7",
   "metadata": {},
   "outputs": [
    {
     "data": {
      "text/plain": [
       "False"
      ]
     },
     "execution_count": 15,
     "metadata": {},
     "output_type": "execute_result"
    }
   ],
   "source": [
    "op1 == op2*2 and op1*2 == op2*2"
   ]
  },
  {
   "cell_type": "code",
   "execution_count": 16,
   "id": "4e830b76",
   "metadata": {},
   "outputs": [
    {
     "data": {
      "text/plain": [
       "True"
      ]
     },
     "execution_count": 16,
     "metadata": {},
     "output_type": "execute_result"
    }
   ],
   "source": [
    "op1 == op2*2 or op1*2 == op2*4"
   ]
  },
  {
   "cell_type": "code",
   "execution_count": 18,
   "id": "29e5a230",
   "metadata": {},
   "outputs": [
    {
     "data": {
      "text/plain": [
       "False"
      ]
     },
     "execution_count": 18,
     "metadata": {},
     "output_type": "execute_result"
    }
   ],
   "source": [
    "not op1 == op2*2 "
   ]
  },
  {
   "cell_type": "markdown",
   "id": "c8bd9f16",
   "metadata": {},
   "source": [
    "# IDENTITY OPERATOR\n",
    "### IS AND IS NOT"
   ]
  },
  {
   "cell_type": "code",
   "execution_count": 19,
   "id": "8c658001",
   "metadata": {},
   "outputs": [
    {
     "data": {
      "text/plain": [
       "True"
      ]
     },
     "execution_count": 19,
     "metadata": {},
     "output_type": "execute_result"
    }
   ],
   "source": [
    "x = 'id number 01'\n",
    "y = 'id number 01'\n",
    "x == y"
   ]
  },
  {
   "cell_type": "code",
   "execution_count": 20,
   "id": "01b1d102",
   "metadata": {},
   "outputs": [
    {
     "data": {
      "text/plain": [
       "False"
      ]
     },
     "execution_count": 20,
     "metadata": {},
     "output_type": "execute_result"
    }
   ],
   "source": [
    "x is y"
   ]
  },
  {
   "cell_type": "code",
   "execution_count": 21,
   "id": "1368c3fa",
   "metadata": {},
   "outputs": [
    {
     "data": {
      "text/plain": [
       "True"
      ]
     },
     "execution_count": 21,
     "metadata": {},
     "output_type": "execute_result"
    }
   ],
   "source": [
    "x is not y"
   ]
  },
  {
   "cell_type": "markdown",
   "id": "f34cef14",
   "metadata": {},
   "source": [
    " # MEMBERSHIP OPERATORS\n",
    " ### IN AND NOT IN"
   ]
  },
  {
   "cell_type": "code",
   "execution_count": 22,
   "id": "76bb5027",
   "metadata": {},
   "outputs": [
    {
     "data": {
      "text/plain": [
       "True"
      ]
     },
     "execution_count": 22,
     "metadata": {},
     "output_type": "execute_result"
    }
   ],
   "source": [
    "list_a = [1,2,3,4,5,6,7,8,9]\n",
    "8 in list_a"
   ]
  },
  {
   "cell_type": "code",
   "execution_count": 23,
   "id": "06d857c7",
   "metadata": {},
   "outputs": [
    {
     "data": {
      "text/plain": [
       "False"
      ]
     },
     "execution_count": 23,
     "metadata": {},
     "output_type": "execute_result"
    }
   ],
   "source": [
    "10 in list_a"
   ]
  },
  {
   "cell_type": "code",
   "execution_count": 24,
   "id": "c9bf460c",
   "metadata": {},
   "outputs": [
    {
     "data": {
      "text/plain": [
       "True"
      ]
     },
     "execution_count": 24,
     "metadata": {},
     "output_type": "execute_result"
    }
   ],
   "source": [
    "11 not in list_a"
   ]
  }
 ],
 "metadata": {
  "kernelspec": {
   "display_name": "Python 3 (ipykernel)",
   "language": "python",
   "name": "python3"
  },
  "language_info": {
   "codemirror_mode": {
    "name": "ipython",
    "version": 3
   },
   "file_extension": ".py",
   "mimetype": "text/x-python",
   "name": "python",
   "nbconvert_exporter": "python",
   "pygments_lexer": "ipython3",
   "version": "3.11.4"
  }
 },
 "nbformat": 4,
 "nbformat_minor": 5
}
